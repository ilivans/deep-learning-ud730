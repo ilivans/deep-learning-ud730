{
 "cells": [
  {
   "cell_type": "markdown",
   "metadata": {
    "colab_type": "text",
    "id": "8tQJd2YSCfWR"
   },
   "source": []
  },
  {
   "cell_type": "markdown",
   "metadata": {
    "colab_type": "text",
    "id": "D7tqLMoKF6uq"
   },
   "source": [
    "Deep Learning\n",
    "=============\n",
    "\n",
    "Assignment 6\n",
    "------------\n",
    "\n",
    "After training a skip-gram model in `5_word2vec.ipynb`, the goal of this notebook is to train a LSTM character model over [Text8](http://mattmahoney.net/dc/textdata) data."
   ]
  },
  {
   "cell_type": "code",
   "execution_count": 1,
   "metadata": {
    "cellView": "both",
    "colab": {
     "autoexec": {
      "startup": false,
      "wait_interval": 0
     }
    },
    "colab_type": "code",
    "collapsed": true,
    "id": "MvEblsgEXxrd"
   },
   "outputs": [],
   "source": [
    "# These are all the modules we'll be using later. Make sure you can import them\n",
    "# before proceeding further.\n",
    "from __future__ import print_function\n",
    "import os\n",
    "import numpy as np\n",
    "import random\n",
    "import string\n",
    "import tensorflow as tf\n",
    "import zipfile\n",
    "from six.moves import range\n",
    "from six.moves.urllib.request import urlretrieve"
   ]
  },
  {
   "cell_type": "code",
   "execution_count": 2,
   "metadata": {
    "cellView": "both",
    "colab": {
     "autoexec": {
      "startup": false,
      "wait_interval": 0
     },
     "output_extras": [
      {
       "item_id": 1
      }
     ]
    },
    "colab_type": "code",
    "collapsed": false,
    "executionInfo": {
     "elapsed": 5993,
     "status": "ok",
     "timestamp": 1445965582896,
     "user": {
      "color": "#1FA15D",
      "displayName": "Vincent Vanhoucke",
      "isAnonymous": false,
      "isMe": true,
      "permissionId": "05076109866853157986",
      "photoUrl": "//lh6.googleusercontent.com/-cCJa7dTDcgQ/AAAAAAAAAAI/AAAAAAAACgw/r2EZ_8oYer4/s50-c-k-no/photo.jpg",
      "sessionId": "6f6f07b359200c46",
      "userId": "102167687554210253930"
     },
     "user_tz": 420
    },
    "id": "RJ-o3UBUFtCw",
    "outputId": "d530534e-0791-4a94-ca6d-1c8f1b908a9e"
   },
   "outputs": [
    {
     "name": "stdout",
     "output_type": "stream",
     "text": [
      "Found and verified text8.zip\n"
     ]
    }
   ],
   "source": [
    "url = 'http://mattmahoney.net/dc/'\n",
    "\n",
    "def maybe_download(filename, expected_bytes):\n",
    "  \"\"\"Download a file if not present, and make sure it's the right size.\"\"\"\n",
    "  if not os.path.exists(filename):\n",
    "    filename, _ = urlretrieve(url + filename, filename)\n",
    "  statinfo = os.stat(filename)\n",
    "  if statinfo.st_size == expected_bytes:\n",
    "    print('Found and verified %s' % filename)\n",
    "  else:\n",
    "    print(statinfo.st_size)\n",
    "    raise Exception(\n",
    "      'Failed to verify ' + filename + '. Can you get to it with a browser?')\n",
    "  return filename\n",
    "\n",
    "filename = maybe_download('text8.zip', 31344016)"
   ]
  },
  {
   "cell_type": "code",
   "execution_count": 3,
   "metadata": {
    "cellView": "both",
    "colab": {
     "autoexec": {
      "startup": false,
      "wait_interval": 0
     },
     "output_extras": [
      {
       "item_id": 1
      }
     ]
    },
    "colab_type": "code",
    "collapsed": false,
    "executionInfo": {
     "elapsed": 5982,
     "status": "ok",
     "timestamp": 1445965582916,
     "user": {
      "color": "#1FA15D",
      "displayName": "Vincent Vanhoucke",
      "isAnonymous": false,
      "isMe": true,
      "permissionId": "05076109866853157986",
      "photoUrl": "//lh6.googleusercontent.com/-cCJa7dTDcgQ/AAAAAAAAAAI/AAAAAAAACgw/r2EZ_8oYer4/s50-c-k-no/photo.jpg",
      "sessionId": "6f6f07b359200c46",
      "userId": "102167687554210253930"
     },
     "user_tz": 420
    },
    "id": "Mvf09fjugFU_",
    "outputId": "8f75db58-3862-404b-a0c3-799380597390"
   },
   "outputs": [
    {
     "name": "stdout",
     "output_type": "stream",
     "text": [
      "Data size 100000000\n"
     ]
    }
   ],
   "source": [
    "def read_data(filename):\n",
    "  f = zipfile.ZipFile(filename)\n",
    "  for name in f.namelist():\n",
    "    return tf.compat.as_str(f.read(name))\n",
    "  f.close()\n",
    "  \n",
    "text = read_data(filename)\n",
    "print('Data size %d' % len(text))"
   ]
  },
  {
   "cell_type": "markdown",
   "metadata": {
    "colab_type": "text",
    "id": "ga2CYACE-ghb"
   },
   "source": [
    "Create a small validation set."
   ]
  },
  {
   "cell_type": "code",
   "execution_count": 4,
   "metadata": {
    "collapsed": false
   },
   "outputs": [],
   "source": [
    "text = text[1:]"
   ]
  },
  {
   "cell_type": "code",
   "execution_count": 5,
   "metadata": {
    "cellView": "both",
    "colab": {
     "autoexec": {
      "startup": false,
      "wait_interval": 0
     },
     "output_extras": [
      {
       "item_id": 1
      }
     ]
    },
    "colab_type": "code",
    "collapsed": false,
    "executionInfo": {
     "elapsed": 6184,
     "status": "ok",
     "timestamp": 1445965583138,
     "user": {
      "color": "#1FA15D",
      "displayName": "Vincent Vanhoucke",
      "isAnonymous": false,
      "isMe": true,
      "permissionId": "05076109866853157986",
      "photoUrl": "//lh6.googleusercontent.com/-cCJa7dTDcgQ/AAAAAAAAAAI/AAAAAAAACgw/r2EZ_8oYer4/s50-c-k-no/photo.jpg",
      "sessionId": "6f6f07b359200c46",
      "userId": "102167687554210253930"
     },
     "user_tz": 420
    },
    "id": "w-oBpfFG-j43",
    "outputId": "bdb96002-d021-4379-f6de-a977924f0d02"
   },
   "outputs": [
    {
     "name": "stdout",
     "output_type": "stream",
     "text": [
      "99959999 fluence the beliefs of present day anarchists others criticise m\n",
      "40000 anarchism originated as a term of abuse first used against early\n"
     ]
    }
   ],
   "source": [
    "valid_size = 1000 * 40\n",
    "valid_text = text[:valid_size]\n",
    "train_text = text[valid_size:]\n",
    "train_size = len(train_text)\n",
    "print(train_size, train_text[:64])\n",
    "print(valid_size, valid_text[:64])"
   ]
  },
  {
   "cell_type": "markdown",
   "metadata": {
    "colab_type": "text",
    "id": "Zdw6i4F8glpp"
   },
   "source": [
    "Utility functions to map characters to vocabulary IDs and back."
   ]
  },
  {
   "cell_type": "code",
   "execution_count": 6,
   "metadata": {
    "cellView": "both",
    "colab": {
     "autoexec": {
      "startup": false,
      "wait_interval": 0
     },
     "output_extras": [
      {
       "item_id": 1
      }
     ]
    },
    "colab_type": "code",
    "collapsed": false,
    "executionInfo": {
     "elapsed": 6276,
     "status": "ok",
     "timestamp": 1445965583249,
     "user": {
      "color": "#1FA15D",
      "displayName": "Vincent Vanhoucke",
      "isAnonymous": false,
      "isMe": true,
      "permissionId": "05076109866853157986",
      "photoUrl": "//lh6.googleusercontent.com/-cCJa7dTDcgQ/AAAAAAAAAAI/AAAAAAAACgw/r2EZ_8oYer4/s50-c-k-no/photo.jpg",
      "sessionId": "6f6f07b359200c46",
      "userId": "102167687554210253930"
     },
     "user_tz": 420
    },
    "id": "gAL1EECXeZsD",
    "outputId": "88fc9032-feb9-45ff-a9a0-a26759cc1f2e"
   },
   "outputs": [
    {
     "name": "stdout",
     "output_type": "stream",
     "text": [
      "Unexpected character: ï\n",
      "1 26 0 0\n",
      "a z .  \n"
     ]
    }
   ],
   "source": [
    "vocabulary_size = len(string.ascii_lowercase) + 1 + 1 + 1 # [a-z] + ' ' + '.' (eos) + '?' (pad)\n",
    "first_letter = ord(string.ascii_lowercase[0])\n",
    "\n",
    "def char2id(char):\n",
    "  if char in string.ascii_lowercase:\n",
    "    return ord(char) - first_letter + 1\n",
    "  elif char == ' ':\n",
    "    return 0\n",
    "  elif char == '?':  # <pad> symbol\n",
    "    return vocabulary_size - 1\n",
    "  elif char == '.':  # <eos> symbol\n",
    "    return vocabulary_size - 2\n",
    "  else:\n",
    "    print('Unexpected character: %s' % char)\n",
    "    return 0\n",
    "  \n",
    "def id2char(dictid):\n",
    "  if dictid == vocabulary_size - 1:\n",
    "    return '?'\n",
    "  if dictid == vocabulary_size - 2:\n",
    "    return '.'\n",
    "  elif dictid > 0:\n",
    "    return chr(dictid + first_letter - 1)\n",
    "  else:\n",
    "    return ' '\n",
    "\n",
    "print(char2id('a'), char2id('z'), char2id(' '), char2id('ï'))\n",
    "print(id2char(1), id2char(26), id2char(27), id2char(0))"
   ]
  },
  {
   "cell_type": "markdown",
   "metadata": {
    "colab_type": "text",
    "id": "lFwoyygOmWsL"
   },
   "source": [
    "Function to generate a training batch for the LSTM model."
   ]
  },
  {
   "cell_type": "code",
   "execution_count": 7,
   "metadata": {
    "cellView": "both",
    "colab": {
     "autoexec": {
      "startup": false,
      "wait_interval": 0
     },
     "output_extras": [
      {
       "item_id": 1
      }
     ]
    },
    "colab_type": "code",
    "collapsed": false,
    "executionInfo": {
     "elapsed": 6473,
     "status": "ok",
     "timestamp": 1445965583467,
     "user": {
      "color": "#1FA15D",
      "displayName": "Vincent Vanhoucke",
      "isAnonymous": false,
      "isMe": true,
      "permissionId": "05076109866853157986",
      "photoUrl": "//lh6.googleusercontent.com/-cCJa7dTDcgQ/AAAAAAAAAAI/AAAAAAAACgw/r2EZ_8oYer4/s50-c-k-no/photo.jpg",
      "sessionId": "6f6f07b359200c46",
      "userId": "102167687554210253930"
     },
     "user_tz": 420
    },
    "id": "d9wMtjy5hCj9",
    "outputId": "3dd79c80-454a-4be0-8b71-4a4a357b3367"
   },
   "outputs": [
    {
     "name": "stdout",
     "output_type": "stream",
     "text": [
      "['fluence the beliefs of pre.?????', 'pular especially in the su.?????', 'ers who play a unique part.?????', 'ryon asymmetry of the univ.?????', 'n to the throne in pamplon.?????', 'ndividual competition and .?????', ' with paul at rome during .?????', 'gdom declares martial law .?????', 'reece brussels daegu south.?????', 'les movement toward social.?????', ' the court to the other ha.?????', 'tter being of ted landsmar.?????', ' to gibeon to make sacrifi.?????', 'ng can escape an event hor.?????', 'ere arrested and constitut.?????', ' as a console game as well.?????', ' selected list of cult fil.?????', 'euds a blood feud or vende.?????', 'nd archimedes as one of hi.?????', 'e six zero s drug use and .?????', 'ns to add to labour cnd es.?????', 'to have been built in eith.?????', 'e from columbia university.?????', 'uction to hume s enquiries.?????', 'lso a change of au as in d.?????', 'blin transport space radar.?????', 'ining a digital library is.?????', 'on filter semilattice orde.?????', 'ecognised general english .?????', 'ion to rise along with its.?????', 'to the representatives of .?????', 'd astronomy which led to a.?????', 'ments to the multitude of .?????', 'church was no longer free .?????', 'dams american historian an.?????', 'h units flying from aircra.?????', 'eunions both of distant co.?????', 'utive mansion stationery a.?????', 'the colours in the palette.?????', 'cation main campus beaver .?????', ' president often has the p.?????', 'njab and other northern st.?????', 'ng realizing that she is t.?????', 'accept his daughter empres.?????', ' four seven one nine six f.?????', ' position serious mistakes.?????', 'r of his clergy either by .?????', 'frame in our minds the ide.?????', 'one nine one nine one five.?????', ' eight irish potato famine.?????', ' indian prime minister see.?????', 'companies and there are in.?????', 'her service which is alrea.?????', 'hatsky in one seven four z.?????', 'tivation or animal husband.?????', 'ear better than other leat.?????', 'ne three eight annabel tak.?????', 'ibal confederations some o.?????', ' as macedonia by non greek.?????', 'not publically fund midwif.?????', 't german aerospace agency .?????', 'llowing u s highway two is.?????', 's exoteric teachings into .?????', 'beled packets are forwarde.?????']\n",
      "['sent day anarchists others.?????', 'mmer when live performance.?????', ' in the history of the heb.?????', 'erse quantum field theory .?????', 'a references aragonese mon.?????', 'won gold in the team event.?????', 'his second imprisonment fr.?????', 'in ireland one nine one si.?????', ' korea tbilisi toulouse ra.?????', 'ism mas with two zero nine.?????', 'lf court games also double.?????', 'k an african american city.?????', 'ces as it was the most pro.?????', 'izon is formed and matter .?????', 'ion court was halted new e.?????', ' as a computer game today .?????', 'm actors michael berryman .?????', 'tta occurs when arbitratio.?????', 'story s greatest mathemati.?????', 'abuse increased greatly ar.?????', 't one nine seven nine and .?????', 'er one five six six or one.?????', ' s teachers college while .?????', ' a fascinating and sometim.?????', 'au r into as in d r this c.?????', ' image of dublin with the .?????', ' lower than that of a trad.?????', 'r theory general topology .?????', 'dictionary published in th.?????', ' demand which further comp.?????', 'the people but remained he.?????', ' b s degree in one nine on.?????', 'variables available in mos.?????', 'the patriarch was also one.?????', 'd novelist d one nine one .?????', 'ft carriers solved the lan.?????', 'usins and of disrupted fam.?????', 'nd that he had written the.?????', ' can be set as transparent.?????', 'falls pennsylvaniabranch c.?????', 'ower to fire ministers at .?????', 'ates in india also celebra.?????', 'he unintentional perpetrat.?????', 's matilda widow of henry v.?????', 'ive one nine seven one and.?????', ' in one nine eight four in.?????', 'representative or by encyc.?????', 'a of an infinite space or .?????', ' nikolay umov russian phys.?????', ' tipperary revolt in tippe.?????', ' also motilal nehru indira.?????', 'numerable types of eyelash.?????', 'dy free other forms of sca.?????', 'ero by the danish explorer.?????', 'ry with nearly two thirds .?????', 'her rather than wearing ou.?????', 'es a tour one nine three e.?????', 'f whom distrusted and reje.?????', 's international disputes a.?????', 'ery midwifery is not yet l.?????', 'in germany this project wa.?????', ' often called the high lin.?????', 'three general categories k.?????', 'd switched is the correct .?????']\n",
      "['anarchism originated a.?????????', 'ht wing election victo.?????????']\n",
      "['s a term of abuse first.????????', 'ry but in one nine thre.????????']\n"
     ]
    }
   ],
   "source": [
    "batch_size=64\n",
    "num_unrollings=31\n",
    "\n",
    "class BatchGenerator(object):\n",
    "  def __init__(self, text, batch_size, num_unrollings):\n",
    "    self._text = text\n",
    "    self._text_size = len(text)\n",
    "    self._batch_size = batch_size\n",
    "    self._num_unrollings = num_unrollings\n",
    "    segment = self._text_size // batch_size\n",
    "    self._cursor = [ offset * segment for offset in range(batch_size)]\n",
    "  \n",
    "  def _next_batch(self):\n",
    "    \"\"\"Generate a single batch from the current cursor position in the data.\"\"\"\n",
    "    batch = np.zeros(shape=(self._batch_size, vocabulary_size), dtype=np.float)\n",
    "    for b in range(self._batch_size):\n",
    "      batch[b, char2id(self._text[self._cursor[b]])] = 1.0\n",
    "      self._cursor[b] = (self._cursor[b] + 1) % self._text_size\n",
    "    return batch\n",
    "  \n",
    "  def next(self):\n",
    "    \"\"\"Generate the next array of batches from the data. The array consists of\n",
    "    the last batch of the previous array, followed by num_unrollings new ones.\n",
    "    \"\"\"\n",
    "    batches = []\n",
    "    num_unrollings = np.random.randint(self._num_unrollings - 10, self._num_unrollings)\n",
    "    for step in range(num_unrollings):\n",
    "      batches.append(self._next_batch())\n",
    "    eos = np.zeros(shape=(self._batch_size, vocabulary_size), dtype=np.float)\n",
    "    eos[:,-2] = 1.\n",
    "    batches.append(eos)\n",
    "    pad = np.zeros(shape=(self._batch_size, vocabulary_size), dtype=np.float)\n",
    "    pad[:,-1] = 1.\n",
    "    for step in range(num_unrollings, self._num_unrollings):\n",
    "      batches.append(pad.copy())\n",
    "    return batches\n",
    "\n",
    "def characters(probabilities):\n",
    "  \"\"\"Turn a 1-hot encoding or a probability distribution over the possible\n",
    "  characters back into its (most likely) character representation.\"\"\"\n",
    "  return [id2char(c) for c in np.argmax(probabilities, 1)]\n",
    "\n",
    "def id2probs(idx):\n",
    "  probs = np.zeros(shape=vocabulary_size, dtype=np.float)\n",
    "  probs[idx] = 1.\n",
    "  return probs\n",
    "\n",
    "def chars2probs(characters):\n",
    "  ids = [char2id(c) for c in characters]\n",
    "  return map(id2probs, ids)\n",
    "\n",
    "def batches2string(batches):\n",
    "  \"\"\"Convert a sequence of batches back into their (most likely) string\n",
    "  representation.\"\"\"\n",
    "  s = [''] * batches[0].shape[0]\n",
    "  for b in batches:\n",
    "    s = [''.join(x) for x in zip(s, characters(b))]\n",
    "  return s\n",
    "\n",
    "train_batches = BatchGenerator(train_text, batch_size, num_unrollings)\n",
    "valid_batches = BatchGenerator(valid_text, 2, num_unrollings)\n",
    "\n",
    "print(batches2string(train_batches.next()))\n",
    "print(batches2string(train_batches.next()))\n",
    "print(batches2string(valid_batches.next()))\n",
    "print(batches2string(valid_batches.next()))"
   ]
  },
  {
   "cell_type": "code",
   "execution_count": 8,
   "metadata": {
    "collapsed": false
   },
   "outputs": [
    {
     "name": "stdout",
     "output_type": "stream",
     "text": [
      "['fluence the beliefs of.????????', 'bles available in most.????????']\n",
      "['ecneulf eht sfeileb fo.????????', 'selb elbaliava ni tsom.????????']\n"
     ]
    }
   ],
   "source": [
    "def string2labels(string):\n",
    "  body, tail = string.split('.')\n",
    "  body = ' '.join(map(lambda word: word[::-1], body.split(' ')))\n",
    "  return chars2probs('.'.join([body, tail]))\n",
    "  \n",
    "def reverse_words(batches):\n",
    "  strings = batches2string(np.array(batches))\n",
    "  labels = np.array(map(string2labels, strings))\n",
    "  return labels.transpose((1,0,2))\n",
    "\n",
    "bg = BatchGenerator(train_text, 2, 30)\n",
    "bs = bg.next()\n",
    "print(batches2string(bs))\n",
    "res = reverse_words(bs)\n",
    "print(batches2string(res))"
   ]
  },
  {
   "cell_type": "markdown",
   "metadata": {
    "colab_type": "text",
    "id": "K8f67YXaDr4C"
   },
   "source": [
    "Seq2seq LSTM model"
   ]
  },
  {
   "cell_type": "code",
   "execution_count": 9,
   "metadata": {
    "cellView": "both",
    "colab": {
     "autoexec": {
      "startup": false,
      "wait_interval": 0
     }
    },
    "colab_type": "code",
    "collapsed": false,
    "id": "Q5rxZK6RDuGe",
    "scrolled": true
   },
   "outputs": [],
   "source": [
    "num_nodes = 64\n",
    "\n",
    "graph = tf.Graph()\n",
    "with graph.as_default():\n",
    "  # Parameters:\n",
    "  # Input gate: input, previous output, and bias.\n",
    "  ix = tf.Variable(tf.truncated_normal([vocabulary_size, num_nodes], -0.1, 0.1))\n",
    "  im = tf.Variable(tf.truncated_normal([num_nodes, num_nodes], -0.1, 0.1))\n",
    "  ib = tf.Variable(tf.zeros([1, num_nodes]))\n",
    "  # Forget gate: input, previous output, and bias.\n",
    "  fx = tf.Variable(tf.truncated_normal([vocabulary_size, num_nodes], -0.1, 0.1))\n",
    "  fm = tf.Variable(tf.truncated_normal([num_nodes, num_nodes], -0.1, 0.1))\n",
    "  fb = tf.Variable(tf.zeros([1, num_nodes]))\n",
    "  # Memory cell: input, state and bias.                             \n",
    "  cx = tf.Variable(tf.truncated_normal([vocabulary_size, num_nodes], -0.1, 0.1))\n",
    "  cm = tf.Variable(tf.truncated_normal([num_nodes, num_nodes], -0.1, 0.1))\n",
    "  cb = tf.Variable(tf.zeros([1, num_nodes]))\n",
    "  # Output gate: input, previous output, and bias.\n",
    "  ox = tf.Variable(tf.truncated_normal([vocabulary_size, num_nodes], -0.1, 0.1))\n",
    "  om = tf.Variable(tf.truncated_normal([num_nodes, num_nodes], -0.1, 0.1))\n",
    "  ob = tf.Variable(tf.zeros([1, num_nodes]))\n",
    "  # Variables saving state across unrollings.\n",
    "  saved_output = tf.Variable(tf.zeros([batch_size, num_nodes]), trainable=False)\n",
    "  saved_state = tf.Variable(tf.zeros([batch_size, num_nodes]), trainable=False)\n",
    "  # Classifier weights and biases.\n",
    "  w = tf.Variable(tf.truncated_normal([num_nodes, vocabulary_size], -0.1, 0.1))\n",
    "  b = tf.Variable(tf.zeros([vocabulary_size]))\n",
    "\n",
    "  # Definition of the cell computation.\n",
    "  def lstm_cell(i, o, state):\n",
    "    \"\"\"Create a LSTM cell. See e.g.: http://arxiv.org/pdf/1402.1128v1.pdf\n",
    "    Note that in this formulation, we omit the various connections between the\n",
    "    previous state and the gates.\"\"\"\n",
    "    input_gate = tf.sigmoid(tf.matmul(i, ix) + tf.matmul(o, im) + ib)\n",
    "    forget_gate = tf.sigmoid(tf.matmul(i, fx) + tf.matmul(o, fm) + fb)\n",
    "    update = tf.matmul(i, cx) + tf.matmul(o, cm) + cb\n",
    "    state = forget_gate * state + input_gate * tf.tanh(update)\n",
    "    output_gate = tf.sigmoid(tf.matmul(i, ox) + tf.matmul(o, om) + ob)\n",
    "    return output_gate * tf.tanh(state), state\n",
    "\n",
    "  # Input gate: input, previous output, and bias.\n",
    "  ix_decoder = tf.Variable(tf.truncated_normal([vocabulary_size, num_nodes], -0.1, 0.1))\n",
    "  im_decoder = tf.Variable(tf.truncated_normal([num_nodes, num_nodes], -0.1, 0.1))\n",
    "  ib_decoder = tf.Variable(tf.zeros([1, num_nodes]))\n",
    "  # Forget gate: input, previous output, and bias.\n",
    "  fx_decoder = tf.Variable(tf.truncated_normal([vocabulary_size, num_nodes], -0.1, 0.1))\n",
    "  fm_decoder = tf.Variable(tf.truncated_normal([num_nodes, num_nodes], -0.1, 0.1))\n",
    "  fb_decoder = tf.Variable(tf.zeros([1, num_nodes]))\n",
    "  # Memory cell: input, state and bias.                             \n",
    "  cx_decoder = tf.Variable(tf.truncated_normal([vocabulary_size, num_nodes], -0.1, 0.1))\n",
    "  cm_decoder = tf.Variable(tf.truncated_normal([num_nodes, num_nodes], -0.1, 0.1))\n",
    "  cb_decoder = tf.Variable(tf.zeros([1, num_nodes]))\n",
    "  # Output gate: input, previous output, and bias.\n",
    "  ox_decoder = tf.Variable(tf.truncated_normal([vocabulary_size, num_nodes], -0.1, 0.1))\n",
    "  om_decoder = tf.Variable(tf.truncated_normal([num_nodes, num_nodes], -0.1, 0.1))\n",
    "  ob_decoder = tf.Variable(tf.zeros([1, num_nodes]))\n",
    "  # Variables saving state across unrollings.\n",
    "  saved_output_decoder = tf.Variable(tf.zeros([batch_size, num_nodes]), trainable=False)\n",
    "  saved_state_decoder = tf.Variable(tf.zeros([batch_size, num_nodes]), trainable=False)\n",
    "  # Classifier weights and biases.\n",
    "  w_decoder = tf.Variable(tf.truncated_normal([num_nodes, vocabulary_size], -0.1, 0.1))\n",
    "  b_decoder = tf.Variable(tf.zeros([vocabulary_size]))\n",
    "\n",
    "  # Definition of the cell computation.\n",
    "  def lstm_cell_decoder(i, o, state):\n",
    "    input_gate = tf.sigmoid(tf.matmul(i, ix_decoder) + tf.matmul(o, im_decoder) + ib_decoder)\n",
    "    forget_gate = tf.sigmoid(tf.matmul(i, fx_decoder) + tf.matmul(o, fm_decoder) + fb_decoder)\n",
    "    update = tf.matmul(i, cx_decoder) + tf.matmul(o, cm_decoder) + cb_decoder\n",
    "    state = forget_gate * state + input_gate * tf.tanh(update)\n",
    "    output_gate = tf.sigmoid(tf.matmul(i, ox_decoder) + tf.matmul(o, om_decoder) + ob_decoder)\n",
    "    return output_gate * tf.tanh(state), state\n",
    "\n",
    "  # Input data.\n",
    "  train_inputs = []\n",
    "  train_labels = []\n",
    "  train_weights = []\n",
    "  for _ in range(num_unrollings + 1):\n",
    "    train_inputs.append(tf.placeholder(tf.float32, shape=[batch_size,vocabulary_size]))\n",
    "    train_labels.append(tf.placeholder(tf.float32, shape=[batch_size,vocabulary_size]))\n",
    "    train_weights.append(tf.placeholder(tf.float32, shape=1))\n",
    "  \n",
    "  # Unrolled LSTM loop.\n",
    "  output = saved_output\n",
    "  state = saved_state\n",
    "  for i in train_inputs:\n",
    "    output, state = lstm_cell(i, output, state)\n",
    "\n",
    "  logits = tf.nn.xw_plus_b(output, w, b)\n",
    "    \n",
    "  output_decoder = output\n",
    "  state_decoder = state\n",
    "  inp = logits\n",
    "  output_logits = []\n",
    "  for _ in range(num_unrollings + 1):\n",
    "    output_decoder, state_decoder = lstm_cell_decoder(inp, output_decoder, state_decoder)\n",
    "    inp = tf.nn.xw_plus_b(output_decoder, w_decoder, b_decoder)\n",
    "    output_logits.append(inp)\n",
    "    \n",
    "\n",
    "  # State saving across unrollings.\n",
    "  with tf.control_dependencies([saved_output.assign(output_decoder),\n",
    "                                saved_state.assign(state_decoder)]):\n",
    "    loss = tf.reduce_mean(\n",
    "      tf.nn.softmax_cross_entropy_with_logits(tf.concat(0, output_logits[0]), tf.concat(0, train_labels[0]))\\\n",
    "        * train_weights[0])\n",
    "    for logits, labels, weight in zip(output_logits[1:], train_labels[1:], train_weights[1:]):\n",
    "      loss += tf.reduce_mean(tf.nn.softmax_cross_entropy_with_logits(logits, labels)) * weight\n",
    "    \n",
    "  # Optimizer.\n",
    "  global_step = tf.Variable(0)\n",
    "  learning_rate = tf.train.exponential_decay(1.0, global_step, 3000, 0.9, staircase=True)\n",
    "  optimizer = tf.train.GradientDescentOptimizer(learning_rate)\n",
    "  gradients, v = zip(*optimizer.compute_gradients(loss))\n",
    "  gradients, _ = tf.clip_by_global_norm(gradients, 1.25)\n",
    "  optimizer = optimizer.apply_gradients(zip(gradients, v), global_step=global_step)\n",
    "\n",
    "  # Predictions.\n",
    "  train_prediction = output_logits\n",
    "\n",
    "  # Sampling and validation eval.\n",
    "  sample_input = list()\n",
    "  for _ in range(num_unrollings + 1):\n",
    "    sample_input.append(tf.placeholder(tf.float32, shape=[2,vocabulary_size]))\n",
    "  saved_sample_output = tf.Variable(tf.zeros([2, num_nodes]))\n",
    "  saved_sample_state = tf.Variable(tf.zeros([2, num_nodes]))\n",
    "\n",
    "  sample_output = saved_sample_output\n",
    "  sample_state = saved_sample_state\n",
    "  for i in range(num_unrollings + 1):\n",
    "    sample_output, sample_state = lstm_cell(sample_input[i], sample_output, sample_state)\n",
    "\n",
    "  sample_logits = tf.nn.xw_plus_b(sample_output, w, b)\n",
    "    \n",
    "  sample_output_decoder = saved_sample_output\n",
    "  sample_state_decoder = sample_state\n",
    "  sample_inp = sample_logits\n",
    "  sample_output_logits = []\n",
    "  for _ in range(num_unrollings + 1):\n",
    "    sample_output_decoder, sample_state_decoder = lstm_cell_decoder(\n",
    "        sample_inp, sample_output_decoder, sample_state_decoder)\n",
    "    sample_inp = tf.nn.xw_plus_b(sample_output_decoder, w_decoder, b_decoder)\n",
    "    sample_output_logits.append(sample_inp)\n",
    "\n",
    "  # Predictions.\n",
    "  valid_prediction = sample_output_logits"
   ]
  },
  {
   "cell_type": "code",
   "execution_count": 11,
   "metadata": {
    "cellView": "both",
    "colab": {
     "autoexec": {
      "startup": false,
      "wait_interval": 0
     },
     "output_extras": [
      {
       "item_id": 41
      },
      {
       "item_id": 80
      },
      {
       "item_id": 126
      },
      {
       "item_id": 144
      }
     ]
    },
    "colab_type": "code",
    "collapsed": false,
    "executionInfo": {
     "elapsed": 199909,
     "status": "ok",
     "timestamp": 1445965877333,
     "user": {
      "color": "#1FA15D",
      "displayName": "Vincent Vanhoucke",
      "isAnonymous": false,
      "isMe": true,
      "permissionId": "05076109866853157986",
      "photoUrl": "//lh6.googleusercontent.com/-cCJa7dTDcgQ/AAAAAAAAAAI/AAAAAAAACgw/r2EZ_8oYer4/s50-c-k-no/photo.jpg",
      "sessionId": "6f6f07b359200c46",
      "userId": "102167687554210253930"
     },
     "user_tz": 420
    },
    "id": "RD9zQCZTEaEm",
    "outputId": "5e868466-2532-4545-ce35-b403cf5d9de6",
    "scrolled": false
   },
   "outputs": [
    {
     "name": "stdout",
     "output_type": "stream",
     "text": [
      "Initialized\n",
      "Average loss at step 0: 3.375561 learning rate: 1.000000\n",
      "['ng class radicals including .???', ' policy and anarchist votes .???']\n",
      "['????????????????????????????????', '????????????????????????????????']\n",
      "Average loss at step 500: 2.867676 learning rate: 1.000000\n",
      "Average loss at step 1000: 2.764175 learning rate: 1.000000\n",
      "Average loss at step 1500: 2.636457 learning rate: 1.000000\n",
      "Average loss at step 2000: 2.576946 learning rate: 1.000000\n",
      "Average loss at step 2500: 2.508032 learning rate: 1.000000\n",
      "['the diggers of the english r.???', 'helped bring the popular fro.???']\n",
      "['eei ee e                   .????', 'eeie e e                   .????']\n",
      "Average loss at step 3000: 2.160964 learning rate: 0.900000\n",
      "Average loss at step 3500: 2.097931 learning rate: 0.900000\n",
      "Average loss at step 4000: 2.065554 learning rate: 0.900000\n",
      "Average loss at step 4500: 2.006832 learning rate: 0.900000\n",
      "Average loss at step 5000: 1.960332 learning rate: 0.900000\n",
      "['evolution and the sans culotte.?', 'nt back to power months later .?']\n",
      "['sniaaerea ena eni             .?', 'ea saaa sa                    .?']\n",
      "Average loss at step 5500: 1.952683 learning rate: 0.900000\n",
      "Average loss at step 6000: 1.922367 learning rate: 0.810000\n",
      "Average loss at step 6500: 1.895262 learning rate: 0.810000\n",
      "Average loss at step 7000: 1.854448 learning rate: 0.810000\n",
      "Average loss at step 7500: 1.836555 learning rate: 0.810000\n",
      "['s of the french revolution wh.??', 'the ruling class responded wi.??']\n",
      "['s oo eht trirreee           s.??', 'eht neiiia seii             ..??']\n",
      "Average loss at step 8000: 1.821808 learning rate: 0.810000\n",
      "Average loss at step 8500: 1.789261 learning rate: 0.810000\n",
      "Average loss at step 9000: 1.768461 learning rate: 0.729000\n",
      "Average loss at step 9500: 1.723728 learning rate: 0.729000\n",
      "Average loss at step 10000: 1.711015 learning rate: 0.729000\n",
      "['ilst the term is still us.??????', 'th an attempted coup and .??????']\n",
      "['ttih eht saat ea       t.???????', 'st na seattta           .???????']\n",
      "Average loss at step 10500: 1.690842 learning rate: 0.729000\n",
      "Average loss at step 11000: 1.699991 learning rate: 0.729000\n",
      "Average loss at step 11500: 1.670932 learning rate: 0.729000\n",
      "Average loss at step 12000: 1.669084 learning rate: 0.656100\n",
      "Average loss at step 12500: 1.625266 learning rate: 0.656100\n",
      "['ed in a pejorative way .????????', 'the spanish civil war o.????????']\n",
      "['de nnia eniiiie        .????????', 'eht sniitaa saaa   a  s.????????']\n",
      "Average loss at step 13000: 1.632524 learning rate: 0.656100\n",
      "Average loss at step 13500: 1.597241 learning rate: 0.656100\n",
      "Average loss at step 14000: 1.593656 learning rate: 0.656100\n",
      "Average loss at step 14500: 1.568437 learning rate: 0.656100\n",
      "Average loss at step 15000: 1.562188 learning rate: 0.590490\n",
      "['to describe any act tha.????????', 'ne nine three six three.????????']\n",
      "['ot eciteeoc ena eaa at.?????????', 'en enin eeehe ehe e  t.?????????']\n",
      "Average loss at step 15500: 1.545032 learning rate: 0.590490\n",
      "Average loss at step 16000: 1.535907 learning rate: 0.590490\n",
      "Average loss at step 16500: 1.530025 learning rate: 0.590490\n",
      "Average loss at step 17000: 1.496433 learning rate: 0.590490\n",
      "Average loss at step 17500: 1.512032 learning rate: 0.590490\n",
      "['t used violent means to .???????', ' nine was underway in re.???????']\n",
      "['t devo gnilaec dnaas eot.???????', ' gnin neh seeees see   .????????']\n",
      "Average loss at step 18000: 1.484171 learning rate: 0.531441\n",
      "Average loss at step 18500: 1.478922 learning rate: 0.531441\n",
      "Average loss at step 19000: 1.475496 learning rate: 0.531441\n",
      "Average loss at step 19500: 1.470937 learning rate: 0.531441\n",
      "Average loss at step 20000: 1.452271 learning rate: 0.531441\n",
      "['destroy the organization of.????', 'ponse to the army rebellion.????']\n",
      "['soreree eht noinerereroo e.?????', 'eeuoe ot eht elas so a a  .?????']\n",
      "Average loss at step 20500: 1.442564 learning rate: 0.531441\n",
      "Average loss at step 21000: 1.453020 learning rate: 0.478297\n",
      "Average loss at step 21500: 1.415311 learning rate: 0.478297\n",
      "Average loss at step 22000: 1.413530 learning rate: 0.478297\n",
      "Average loss at step 22500: 1.401542 learning rate: 0.478297\n",
      "[' society it has also be.????????', ' an anarchist inspired .????????']\n",
      "[' stsnoet ti sah lltl i.?????????', ' na nniiiiiis sehtoe  .?????????']\n",
      "Average loss at step 23000: 1.374417 learning rate: 0.478297\n",
      "Average loss at step 23500: 1.387563 learning rate: 0.478297\n",
      "Average loss at step 24000: 1.368018 learning rate: 0.430467\n",
      "Average loss at step 24500: 1.353436 learning rate: 0.430467\n",
      "Average loss at step 25000: 1.354925 learning rate: 0.430467\n",
      "['en taken up as a positive.??????', 'movement of peasants and .??????']\n",
      "['ne detaa fo eros oo     .???????', 'tnememef fo snneeead ro .???????']\n",
      "Average loss at step 25500: 1.342342 learning rate: 0.430467\n",
      "Average loss at step 26000: 1.368386 learning rate: 0.430467\n",
      "Average loss at step 26500: 1.351357 learning rate: 0.430467\n",
      "Average loss at step 27000: 1.315069 learning rate: 0.387420\n",
      "Average loss at step 27500: 1.313482 learning rate: 0.387420\n",
      "[' label by self defined a.???????', 'workers supported by arm.???????']\n",
      "[' lelen yb elas eeo e  a.????????', 'sreroow setuuuoow yb eh.????????']\n",
      "Average loss at step 28000: 1.300167 learning rate: 0.387420\n",
      "Average loss at step 28500: 1.323406 learning rate: 0.387420\n",
      "Average loss at step 29000: 1.317406 learning rate: 0.387420\n",
      "Average loss at step 29500: 1.298503 learning rate: 0.387420\n",
      "Average loss at step 30000: 1.321436 learning rate: 0.348678\n",
      "['narchists the word anarch.??????', 'ed militias took control .??????']\n",
      "['stcirirua eht yliw snoa .???????', 'de lanitnac seht serot  t.??????']\n",
      "Average loss at step 30500: 1.275839 learning rate: 0.348678\n",
      "Average loss at step 31000: 1.282559 learning rate: 0.348678\n",
      "Average loss at step 31500: 1.246365 learning rate: 0.348678\n",
      "Average loss at step 32000: 1.283120 learning rate: 0.348678\n",
      "Average loss at step 32500: 1.282398 learning rate: 0.348678\n",
      "['ism is derived from th.?????????', 'of the major city of b.?????????']\n",
      "['sii si seveses st e o.??????????', 'fo eht lorat oo e o  .??????????']\n",
      "Average loss at step 33000: 1.250717 learning rate: 0.313810\n",
      "Average loss at step 33500: 1.251568 learning rate: 0.313810\n",
      "Average loss at step 34000: 1.243038 learning rate: 0.313810\n",
      "Average loss at step 34500: 1.247507 learning rate: 0.313810\n",
      "Average loss at step 35000: 1.242135 learning rate: 0.313810\n",
      "['e greek without archons ruler.??', 'arcelona and of large areas o.??']\n",
      "['e reero tuortor rorrrrr trrot.??', 'ynororrn dna so srror r r r t.??']\n",
      "Average loss at step 35500: 1.239467 learning rate: 0.313810\n",
      "Average loss at step 36000: 1.228666 learning rate: 0.282429\n",
      "Average loss at step 36500: 1.225434 learning rate: 0.282429\n",
      "Average loss at step 37000: 1.212116 learning rate: 0.282429\n",
      "Average loss at step 37500: 1.209115 learning rate: 0.282429\n",
      "[' chief king anarchism as.???????', 'f rural spain where they.???????']\n",
      "[' suiro enil tsititaas a.????????', 'r raror siila hsoht ehc.????????']\n",
      "Average loss at step 38000: 1.201095 learning rate: 0.282429\n",
      "Average loss at step 38500: 1.212206 learning rate: 0.282429\n",
      "Average loss at step 39000: 1.204238 learning rate: 0.254186\n",
      "Average loss at step 39500: 1.199794 learning rate: 0.254186\n",
      "Average loss at step 40000: 1.202335 learning rate: 0.254186\n",
      "[' a political philosophy is th.??', ' collectivized the land but e.??']\n",
      "[' a lilililil etehtios si eth.???', ' davininonnnni eht enor eha t.??']\n",
      "Average loss at step 40500: 1.201710 learning rate: 0.254186\n",
      "Average loss at step 41000: 1.185251 learning rate: 0.254186\n",
      "Average loss at step 41500: 1.189525 learning rate: 0.254186\n",
      "Average loss at step 42000: 1.184840 learning rate: 0.228768\n",
      "Average loss at step 42500: 1.175023 learning rate: 0.228768\n",
      "['e belief that rulers are un.????', 'ven before the eventual fas.????']\n",
      "['e neileb mert ylrooc eht o.?????', 'nev emofef eha sleees s aa.?????']\n",
      "Average loss at step 43000: 1.184307 learning rate: 0.228768\n",
      "Average loss at step 43500: 1.188828 learning rate: 0.228768\n",
      "Average loss at step 44000: 1.198326 learning rate: 0.228768\n",
      "Average loss at step 44500: 1.152682 learning rate: 0.228768\n",
      "Average loss at step 45000: 1.179855 learning rate: 0.205891\n",
      "['necessary and should be.????????', 'cist victory in one nin.????????']\n",
      "['yreererre dna srrahs eg.????????', 'tsif stortof ni eht eig.????????']\n",
      "Average loss at step 45500: 1.152646 learning rate: 0.205891\n",
      "Average loss at step 46000: 1.161248 learning rate: 0.205891\n",
      "Average loss at step 46500: 1.137426 learning rate: 0.205891\n",
      "Average loss at step 47000: 1.163373 learning rate: 0.205891\n",
      "Average loss at step 47500: 1.126712 learning rate: 0.205891\n",
      "[' abolished although there ar.???', 'e three nine the anarchists .???']\n",
      "[' dagninina etuottoa hraht e.????', 'e eerht enin eht staaht a  .????']\n",
      "Average loss at step 48000: 1.129473 learning rate: 0.185302\n",
      "Average loss at step 48500: 1.141639 learning rate: 0.185302\n",
      "Average loss at step 49000: 1.135474 learning rate: 0.185302\n",
      "Average loss at step 49500: 1.149950 learning rate: 0.185302\n",
      "Average loss at step 50000: 1.141156 learning rate: 0.185302\n",
      "['e differing interpreta.?????????', 'were losing ground in .?????????']\n",
      "['e gniteeeee egiregeie..?????????', 'erew gnihaa sgnaaa ni .?????????']\n",
      "Average loss at step 50500: 1.115159 learning rate: 0.185302\n",
      "Average loss at step 51000: 1.125880 learning rate: 0.166772\n",
      "Average loss at step 51500: 1.117991 learning rate: 0.166772\n",
      "Average loss at step 52000: 1.135059 learning rate: 0.166772\n",
      "Average loss at step 52500: 1.136388 learning rate: 0.166772\n",
      "['tions of what this means a.?????', 'a bitter struggle with the.?????']\n",
      "['snnit fo seht seraat a a .??????', 'a retrir eratttow htih hh.??????']\n",
      "Average loss at step 53000: 1.113873 learning rate: 0.166772\n",
      "Average loss at step 53500: 1.124166 learning rate: 0.166772\n",
      "Average loss at step 54000: 1.126097 learning rate: 0.150095\n",
      "Average loss at step 54500: 1.117602 learning rate: 0.150095\n",
      "Average loss at step 55000: 1.092794 learning rate: 0.150095\n",
      "['narchism also refers to r.??????', ' stalinists the cnt leade.??????']\n",
      "['gtitecoc atra trerht ot .???????', ' sanitninii eht tna elae..??????']\n",
      "Average loss at step 55500: 1.122253 learning rate: 0.150095\n",
      "Average loss at step 56000: 1.090786 learning rate: 0.150095\n",
      "Average loss at step 56500: 1.098500 learning rate: 0.150095\n",
      "Average loss at step 57000: 1.107074 learning rate: 0.135085\n",
      "Average loss at step 57500: 1.102140 learning rate: 0.135085\n",
      "['elated social movements .???????', 'rship often appeared con.???????']\n",
      "['detale siitam srrettr hr.???????', 'citrr rehto serreroo tot.???????']\n",
      "Average loss at step 58000: 1.109976 learning rate: 0.135085\n",
      "Average loss at step 58500: 1.080819 learning rate: 0.135085\n",
      "Average loss at step 59000: 1.070744 learning rate: 0.135085\n",
      "Average loss at step 59500: 1.086172 learning rate: 0.135085\n",
      "Average loss at step 60000: 1.089185 learning rate: 0.121577\n",
      "['that advocate the eli.??????????', 'fused and divided wit.??????????']\n",
      "['taht ecaremaa eht eta.??????????', 'derof dna devises ehw.??????????']\n",
      "Average loss at step 60500: 1.076337 learning rate: 0.121577\n",
      "Average loss at step 61000: 1.075062 learning rate: 0.121577\n",
      "Average loss at step 61500: 1.074061 learning rate: 0.121577\n",
      "Average loss at step 62000: 1.076909 learning rate: 0.121577\n",
      "Average loss at step 62500: 1.071944 learning rate: 0.121577\n",
      "['mination of authoritarian.??????', 'h some members controvers.??????']\n",
      "['noitinnn fo ytatttttttrhc.??????', 'h emoh sreremm emerttorot.??????']\n",
      "Average loss at step 63000: 1.091136 learning rate: 0.109419\n",
      "Average loss at step 63500: 1.079663 learning rate: 0.109419\n",
      "Average loss at step 64000: 1.075757 learning rate: 0.109419\n",
      "Average loss at step 64500: 1.061651 learning rate: 0.109419\n",
      "Average loss at step 65000: 1.078473 learning rate: 0.109419\n",
      "[' institutions particu.??????????', 'ially entering the go.??????????']\n",
      "[' snonttntotit htitre..??????????', 'yalai gnitarea eht eg.??????????']\n",
      "Average loss at step 65500: 1.061564 learning rate: 0.109419\n",
      "Average loss at step 66000: 1.084477 learning rate: 0.098477\n",
      "Average loss at step 66500: 1.052762 learning rate: 0.098477\n",
      "Average loss at step 67000: 1.046260 learning rate: 0.098477\n",
      "Average loss at step 67500: 1.044247 learning rate: 0.098477\n",
      "['larly the state the word ana.???', 'vernment stalinist led troop.???']\n",
      "['yalab eht eraha erae eiiee ..???', 'tnereres stilatsaa roh eteh.????']\n",
      "Average loss at step 68000: 1.058778 learning rate: 0.098477\n",
      "Average loss at step 68500: 1.069381 learning rate: 0.098477\n",
      "Average loss at step 69000: 1.067743 learning rate: 0.088629\n",
      "Average loss at step 69500: 1.061742 learning rate: 0.088629\n",
      "Average loss at step 70000: 1.062310 learning rate: 0.088629\n",
      "['rchy as most anarchists .???????', 's suppressed the collect.???????']\n",
      "['hthr sa isoa trarat t eh.???????', 's seesporpos eht tsalpoc.???????']\n",
      "Average loss at step 70500: 1.069807 learning rate: 0.088629\n",
      "Average loss at step 71000: 1.025443 learning rate: 0.088629\n",
      "Average loss at step 71500: 1.050135 learning rate: 0.088629\n",
      "Average loss at step 72000: 1.056133 learning rate: 0.079766\n",
      "Average loss at step 72500: 1.043391 learning rate: 0.079766\n",
      "['use it does not imply chaos.????', 'ives and persecuted both di.????']\n",
      "['esu ti sela sas slalo     .?????', 'sati dna detarerres etah e.?????']\n",
      "Average loss at step 73000: 1.031665 learning rate: 0.079766\n",
      "Average loss at step 73500: 1.073080 learning rate: 0.079766\n",
      "Average loss at step 74000: 1.054896 learning rate: 0.079766\n",
      "Average loss at step 74500: 1.060483 learning rate: 0.079766\n",
      "Average loss at step 75000: 1.036101 learning rate: 0.071790\n",
      "[' nihilism or anomie but rathe.??', 'ssident marxists and anarchis.??']\n",
      "[' ssinonon fo ytrett eht errhc.??', 'tnerres stsataas dna etitthhc.??']\n",
      "Average loss at step 75500: 1.044898 learning rate: 0.071790\n",
      "Average loss at step 76000: 1.022608 learning rate: 0.071790\n",
      "Average loss at step 76500: 1.039339 learning rate: 0.071790\n",
      "Average loss at step 77000: 1.046776 learning rate: 0.071790\n",
      "Average loss at step 77500: 1.039050 learning rate: 0.071790\n",
      "['r a harmonious anti authorita.??', 'ts since the late one nine se.??']\n",
      "['m g duorororoa staa hcittot c.??', 'st etnib eht enif se eee e  c.??']\n",
      "Average loss at step 78000: 1.056201 learning rate: 0.064611\n",
      "Average loss at step 78500: 1.042356 learning rate: 0.064611\n",
      "Average loss at step 79000: 1.036709 learning rate: 0.064611\n",
      "Average loss at step 79500: 1.033472 learning rate: 0.064611\n",
      "Average loss at step 80000: 1.034509 learning rate: 0.064611\n",
      "['rian society in place o.????????', 'ven zero s anarchists h.????????']\n",
      "['nait yltorop ni eciht a.????????', 'neg erer s ssrarrraea h.????????']\n",
      "Average loss at step 80500: 1.015007 learning rate: 0.064611\n",
      "Average loss at step 81000: 1.035624 learning rate: 0.058150\n",
      "Average loss at step 81500: 1.039281 learning rate: 0.058150\n",
      "Average loss at step 82000: 1.016273 learning rate: 0.058150\n",
      "Average loss at step 82500: 1.040933 learning rate: 0.058150\n",
      "['f what are regarded as aut.?????', 'ave been involved in fight.?????']\n",
      "['g ttht era detaaraa na e d.?????', 'ema neem netramea en ehtit.?????']\n",
      "Average loss at step 83000: 1.046984 learning rate: 0.058150\n",
      "Average loss at step 83500: 1.028342 learning rate: 0.058150\n",
      "Average loss at step 84000: 1.033209 learning rate: 0.052335\n",
      "Average loss at step 84500: 1.015328 learning rate: 0.052335\n",
      "Average loss at step 85000: 1.028732 learning rate: 0.052335\n",
      "['horitarian political str.???????', 'ing the rise of neo fasc.???????']\n",
      "['naitarotat latiraraa hsb.???????', 'gii eht esis fo eht eeep.???????']\n",
      "Average loss at step 85500: 1.038375 learning rate: 0.052335\n",
      "Average loss at step 86000: 1.006019 learning rate: 0.052335\n",
      "Average loss at step 86500: 1.028289 learning rate: 0.052335\n",
      "Average loss at step 87000: 1.018936 learning rate: 0.047101\n",
      "Average loss at step 87500: 1.005986 learning rate: 0.047101\n",
      "['uctures and coercive econo.?????', 'ist groups in germany and .?????']\n",
      "['serurot dna enirreet erehp.?????', 'tsi stnara sa enanrag enar.?????']\n",
      "Average loss at step 88000: 1.036911 learning rate: 0.047101\n",
      "Average loss at step 88500: 1.024213 learning rate: 0.047101\n",
      "Average loss at step 89000: 1.010565 learning rate: 0.047101\n",
      "Average loss at step 89500: 1.017542 learning rate: 0.047101\n",
      "Average loss at step 90000: 0.998978 learning rate: 0.042391\n",
      "['mic institutions anarch.????????', 'the united kingdom some.????????']\n",
      "['cit snittatttiis eciira.????????', 'eht detini soronot eror.????????']\n",
      "Average loss at step 90500: 1.007562 learning rate: 0.042391\n",
      "Average loss at step 91000: 1.017524 learning rate: 0.042391\n",
      "Average loss at step 91500: 1.023654 learning rate: 0.042391\n",
      "Average loss at step 92000: 1.030033 learning rate: 0.042391\n",
      "Average loss at step 92500: 1.011538 learning rate: 0.042391\n",
      "['ists advocate social rela.??????', ' anarchists worked within.??????']\n",
      "['stsa ytararaa leira eerap.??????', ' stnorrawaw detrow sirahc.??????']\n",
      "Average loss at step 93000: 1.013526 learning rate: 0.038152\n",
      "Average loss at step 93500: 1.016043 learning rate: 0.038152\n",
      "Average loss at step 94000: 1.029064 learning rate: 0.038152\n",
      "Average loss at step 94500: 1.021441 learning rate: 0.038152\n",
      "Average loss at step 95000: 1.013207 learning rate: 0.038152\n",
      "['tions based upon volun.?????????', ' militant anti fascist.?????????']\n",
      "['suuis desaw nora sueed.?????????', ' tnamnnom iina ttsttep.?????????']\n",
      "Average loss at step 95500: 1.018885 learning rate: 0.038152\n",
      "Average loss at step 96000: 1.010171 learning rate: 0.034337\n",
      "Average loss at step 96500: 1.014051 learning rate: 0.034337\n",
      "Average loss at step 97000: 1.010611 learning rate: 0.034337\n",
      "Average loss at step 97500: 1.021608 learning rate: 0.034337\n",
      "['tary association of au.?????????', ' groups alongside memb.?????????']\n",
      "['yaat noitatttaaa fo ra.?????????', ' seorom egitanaaa eram.?????????']\n",
      "Average loss at step 98000: 1.015593 learning rate: 0.034337\n",
      "Average loss at step 98500: 0.992581 learning rate: 0.034337\n",
      "Average loss at step 99000: 0.998691 learning rate: 0.030903\n",
      "Average loss at step 99500: 1.004427 learning rate: 0.030903\n",
      "Average loss at step 100000: 0.994397 learning rate: 0.030903\n",
      "['tonomous individuals m.?????????', 'ers of the marxist lef.?????????']\n",
      "['suonooot slalnannnna a.?????????', 'sre fo eht esaemem e s.?????????']\n"
     ]
    }
   ],
   "source": [
    "num_steps = 100001\n",
    "summary_frequency = 500\n",
    "mean_losses = []\n",
    "\n",
    "with tf.Session(graph=graph) as session:\n",
    "  tf.initialize_all_variables().run()\n",
    "  print('Initialized')\n",
    "  mean_loss = 0\n",
    "  for step in range(num_steps):\n",
    "    batches = train_batches.next()\n",
    "    labels = reverse_words(batches)\n",
    "    batches = batches[::-1]\n",
    "    weights = np.ones(len(batches))\n",
    "    weights = weights / weights.sum()\n",
    "    \n",
    "    feed_dict = dict()\n",
    "    for i in range(num_unrollings + 1):\n",
    "      feed_dict[train_inputs[i]] = batches[i]\n",
    "      feed_dict[train_labels[i]] = labels[i]\n",
    "      feed_dict[train_weights[i]] = [weights[i]]\n",
    "    _, l, predictions, lr = session.run(\n",
    "      [optimizer, loss, train_prediction, learning_rate], feed_dict=feed_dict)\n",
    "    mean_loss += l\n",
    "    if step % summary_frequency == 0:\n",
    "      if step > 0:\n",
    "        mean_loss = mean_loss / summary_frequency\n",
    "      mean_losses.append(mean_loss)\n",
    "      # The mean loss is an estimate of the loss over the last few batches.\n",
    "      print(\n",
    "        'Average loss at step %d: %f learning rate: %f' % (step, mean_loss, lr))\n",
    "      mean_loss = 0\n",
    "    \n",
    "      if step % (summary_frequency * 5) == 0:\n",
    "        val_batches = valid_batches.next()\n",
    "        print(batches2string(val_batches))\n",
    "        val_batches = val_batches[::-1]\n",
    "        feed_valid = dict()\n",
    "        for i in range(num_unrollings + 1):\n",
    "          feed_valid[sample_input[i]] = val_batches[i]\n",
    "        val_prediction = session.run([valid_prediction], feed_dict=feed_valid)\n",
    "        val_prediction = val_prediction[0]\n",
    "        print(batches2string(np.array(val_prediction)))"
   ]
  },
  {
   "cell_type": "code",
   "execution_count": 14,
   "metadata": {
    "collapsed": false
   },
   "outputs": [
    {
     "data": {
      "image/png": "[encoded data removed]",
      "text/plain": [
       "<IPython.core.display.Image object>"
      ]
     },
     "execution_count": 14,
     "metadata": {},
     "output_type": "execute_result"
    }
   ],
   "source": [
    "from IPython.display import Image\n",
    "Image(\"seq2seq.png\")"
   ]
  },
  {
   "cell_type": "markdown",
   "metadata": {},
   "source": [
    "График средней ошибки, взятой на 100 последних батчах (ошибка на батче считается до обучения на нём, и каждый семпл участвует в обучение единожды)"
   ]
  },
  {
   "cell_type": "code",
   "execution_count": 13,
   "metadata": {
    "collapsed": false
   },
   "outputs": [
    {
     "data": {
      "text/plain": [
       "[<matplotlib.lines.Line2D at 0x7fd90441d290>]"
      ]
     },
     "execution_count": 13,
     "metadata": {},
     "output_type": "execute_result"
    },
    {
     "data": {
      "image/png": "[encoded data removed]",
      "text/plain": [
       "<matplotlib.figure.Figure at 0x7fd90472cd50>"
      ]
     },
     "metadata": {},
     "output_type": "display_data"
    }
   ],
   "source": [
    "import matplotlib.pyplot as plt\n",
    "%matplotlib inline\n",
    "\n",
    "plt.plot(mean_losses)"
   ]
  },
  {
   "cell_type": "markdown",
   "metadata": {
    "collapsed": true
   },
   "source": [
    "Для простоты и более быстрой сходимости генерирую предложения только длины 22-31, добавляю символ конца предложения - '.' и до 32-х добиваю символом padding - '?'. Генерирую батч из предложений равной длины (случайной в промежутке 22-31) и кормлю модели на одной итерации.\n",
    "\n",
    "В sequence loss было решено добавить ошибку на padding символах, потому что так модель обучалась лучше. Также настроил learning_rate. Начальные размер батча (64) и число нод (64) оказались оптимальными.\n",
    "\n",
    "При обучении вывожу результаты работы модели на предложениях из валидационной выборки (не участвующих в обучении). Видно как в начале модель учится определять конец предложения и выдавать паддинги после него. Вместо предложения сперва модель просто выдает пробелы, что дает гарантированно несколько матчингов (логично). После этого модель начинает распозновать позиции пробелов и выводить на места слов буквы вместо пробелов. По началу генерируются просто частотные символы, что опять же даёт гарантированый матчинг. Затем можно наблюдать, как алгоритм в действительности разворачивает некоторые слова полностью или частично.\n",
    "\n",
    "В конце концов у меня получилось научить модель довольно качественно разворачивать короткие слова (1-3 символа), особенно частотные типа 'the'. Также она неплохо справляется с длинными словами, правильно разворачивая хотя бы несколько символов."
   ]
  },
  {
   "cell_type": "code",
   "execution_count": null,
   "metadata": {
    "collapsed": true
   },
   "outputs": [],
   "source": []
  }
 ],
 "metadata": {
  "colab": {
   "default_view": {},
   "name": "6_lstm.ipynb",
   "provenance": [],
   "version": "0.3.2",
   "views": {}
  },
  "kernelspec": {
   "display_name": "Python 2",
   "language": "python",
   "name": "python2"
  },
  "language_info": {
   "codemirror_mode": {
    "name": "ipython",
    "version": 2
   },
   "file_extension": ".py",
   "mimetype": "text/x-python",
   "name": "python",
   "nbconvert_exporter": "python",
   "pygments_lexer": "ipython2",
   "version": "2.7.12"
  }
 },
 "nbformat": 4,
 "nbformat_minor": 0
}
